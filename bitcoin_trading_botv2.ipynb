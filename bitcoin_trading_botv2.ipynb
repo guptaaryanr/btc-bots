{
  "nbformat": 4,
  "nbformat_minor": 0,
  "metadata": {
    "colab": {
      "name": "bitcoin-trading-botv2.ipynb",
      "provenance": [],
      "collapsed_sections": [],
      "authorship_tag": "ABX9TyN75fycExz61CiIpy6bcHvz",
      "include_colab_link": true
    },
    "kernelspec": {
      "name": "python3",
      "display_name": "Python 3"
    },
    "language_info": {
      "name": "python"
    }
  },
  "cells": [
    {
      "cell_type": "markdown",
      "metadata": {
        "id": "view-in-github",
        "colab_type": "text"
      },
      "source": [
        "<a href=\"https://colab.research.google.com/github/guptaaryanr/btc-bots/blob/main/bitcoin_trading_botv2.ipynb\" target=\"_parent\"><img src=\"https://colab.research.google.com/assets/colab-badge.svg\" alt=\"Open In Colab\"/></a>"
      ]
    },
    {
      "cell_type": "code",
      "execution_count": null,
      "metadata": {
        "id": "lDOQGAeJNmwP"
      },
      "outputs": [],
      "source": [
        "pip install websocket-client"
      ]
    },
    {
      "cell_type": "code",
      "source": [
        "!wget http://prdownloads.sourceforge.net/ta-lib/ta-lib-0.4.0-src.tar.gz\n",
        "!tar -xzvf ta-lib-0.4.0-src.tar.gz\n",
        "%cd ta-lib\n",
        "!./configure --prefix=/usr\n",
        "!make\n",
        "!make install\n",
        "!pip install Ta-Lib"
      ],
      "metadata": {
        "id": "ysVaegDhN9Xj"
      },
      "execution_count": null,
      "outputs": []
    },
    {
      "cell_type": "code",
      "source": [
        "import websocket\n",
        "import numpy as np\n",
        "import json\n",
        "from talib import abstract\n",
        "import inspect"
      ],
      "metadata": {
        "id": "Ot8IrF1CPVDt"
      },
      "execution_count": null,
      "outputs": []
    },
    {
      "cell_type": "code",
      "source": [
        "symbol = 'btcusdt'\n",
        "interval = '1m'\n",
        "socket = f'wss://stream.binance.com:9443/ws/{symbol}@kline_{interval}'"
      ],
      "metadata": {
        "id": "bIUeArf1Pxh0"
      },
      "execution_count": null,
      "outputs": []
    },
    {
      "cell_type": "code",
      "source": [
        "amount = 1000\n",
        "core_amount = amount * 0.75\n",
        "core_quantity = 0\n",
        "trade_amount = amount * 0.25\n",
        "core_to_trade = True\n",
        "transaction_cost = 0.0005\n",
        "min_trade_amt = 30\n",
        "portfolio = 0\n",
        "avg_indicator, amt, trade_amt, port_value = 0, 0, 0, 0\n",
        "investment = []\n",
        "real_time_portfolio_value = []\n",
        "closes, highs, lows, opens, volumes = [], [], [], [], []\n",
        "indicators = []\n",
        "money_end = amount\n",
        "candles = [opens, highs, lows, closes, volumes]"
      ],
      "metadata": {
        "id": "Lz14JxmqP-T_"
      },
      "execution_count": null,
      "outputs": []
    },
    {
      "cell_type": "code",
      "source": [
        "def buy(allocated_money, price):\n",
        "    global portfolio, money_end, investment\n",
        "    quantity = allocated_money / price\n",
        "    money_end -= (quantity * price)\n",
        "    portfolio += quantity\n",
        "    if investment == []:\n",
        "        investment.append(allocated_money)\n",
        "    else:\n",
        "        investment.append(allocated_money)\n",
        "        investment[-1] += investment[-2]\n",
        "        \n",
        "def sell(allocated_money, price):\n",
        "    global portfolio, money_end, investment\n",
        "    quantity = allocated_money / price\n",
        "    money_end += (quantity * price)\n",
        "    portfolio -= quantity\n",
        "    investment.append(-allocated_money)\n",
        "    investment[-1] += investment[-2]"
      ],
      "metadata": {
        "id": "qtUO39j7Rved"
      },
      "execution_count": null,
      "outputs": []
    },
    {
      "cell_type": "code",
      "source": [
        "f = abstract\n",
        "dir1 = dir(f)\n",
        "public_method_names = [method for method in dir1 if method.startswith('CDL')]"
      ],
      "metadata": {
        "id": "prfxRlyaR4CS"
      },
      "execution_count": null,
      "outputs": []
    },
    {
      "cell_type": "code",
      "source": [
        "def on_message(ws, message):\n",
        "    global portfolio, investment, money_end, real_time_portfolio_value\n",
        "    global highs, lows, closes, core_to_trade, core_quantity\n",
        "    json_message = json.loads(message)\n",
        "    cs = json_message['k']\n",
        "    candle_closed = cs['x']\n",
        "    close = cs['c']\n",
        "    high = cs['h']\n",
        "    low = cs['l']\n",
        "    open = cs['o']\n",
        "    volume = cs['v']\n",
        "    candle = [open, high, low, close, volume]\n",
        "\n",
        "    if candle_closed:\n",
        "        for i in candles:\n",
        "            i.append(float(candle[candles.index(i)]))\n",
        "        print(f'Closes: {closes}')\n",
        "\n",
        "        inputs = {'open': np.array(opens), 'high': np.array(highs), 'low': np.array(lows), 'close': np.array(closes), 'volume': np.array(volumes)}\n",
        "        print(inputs)\n",
        "\n",
        "        if core_to_trade:\n",
        "            buy(core_amount, closes[-1])\n",
        "            print(f'Core Investment: Bought ${core_amount} BTC')\n",
        "            core_quantity += core_amount / closes[-1]\n",
        "            core_to_trade = False\n",
        "\n",
        "        for method in public_method_names:\n",
        "            indicator = getattr(f, method)(inputs)\n",
        "            indicators.append(indicator[-1])\n",
        "        avg_indicators = np.mean(indicators)\n",
        "\n",
        "        if avg_indicators >= 10:\n",
        "            amt = trade_amount\n",
        "        elif avg_indicators <= -10:\n",
        "            amt = -trade_amount\n",
        "        else:\n",
        "            amt = avg_indicators * 10\n",
        "\n",
        "        port_value = portfolio * closes[-1] - core_quantity * closes[-1]\n",
        "        trade_amt = amt - port_value\n",
        "        real_time_portfolio_value.append(float(money_end + portfolio * closes[-1]))\n",
        "        print(f'Average of all indicators is {avg_indicators} and recommended exposure is ${amt}')\n",
        "        print(f'Real-Time Portfolio Value: ${real_time_portfolio_value[-1]}')\n",
        "        print(f'Invested amount: ${portfolio * closes[-1]}')\n",
        "\n",
        "        if trade_amt > min_trade_amt:\n",
        "            buy(trade_amt, closes[-1])\n",
        "            print(f'Bought ${trade_amt} BTC')\n",
        "        elif trade_amt < -min_trade_amt:\n",
        "            sell(-trade_amt, closes[-1])\n",
        "            print(f'Sold ${trade_amt} BTC')\n",
        "\n",
        "        print('\\n')\n",
        "\n",
        "ws = websocket.WebSocketApp(socket, on_message = on_message)"
      ],
      "metadata": {
        "id": "WSUc5cVXSwPN"
      },
      "execution_count": null,
      "outputs": []
    },
    {
      "cell_type": "code",
      "source": [
        "ws.run_forever()"
      ],
      "metadata": {
        "id": "XUBy7gYVTCyR"
      },
      "execution_count": null,
      "outputs": []
    },
    {
      "cell_type": "code",
      "source": [
        "investment"
      ],
      "metadata": {
        "id": "yv6jcYrLavos"
      },
      "execution_count": null,
      "outputs": []
    },
    {
      "cell_type": "code",
      "source": [
        "port_value = portfolio * closes[-1]\n",
        "if port_value > 0:\n",
        "    sell(port_value, closes[-1])\n",
        "else:\n",
        "    buy(-port_value, closes[-1])\n",
        "money_end += investment[-1]\n",
        "print('All trades settled')"
      ],
      "metadata": {
        "id": "8Bl0xm7wayi2"
      },
      "execution_count": null,
      "outputs": []
    },
    {
      "cell_type": "code",
      "source": [
        "money_end"
      ],
      "metadata": {
        "id": "7aIUGV4BbIpU"
      },
      "execution_count": null,
      "outputs": []
    },
    {
      "cell_type": "code",
      "source": [
        "portfolio"
      ],
      "metadata": {
        "id": "LeD2LMhZbKAZ"
      },
      "execution_count": null,
      "outputs": []
    },
    {
      "cell_type": "code",
      "source": [
        "amount"
      ],
      "metadata": {
        "id": "txF90ACF0-D9"
      },
      "execution_count": null,
      "outputs": []
    },
    {
      "cell_type": "code",
      "source": [
        "btc_return = closes[-1] / closes[0] - 1\n",
        "bot_return = real_time_portfolio_value[-1] / amount - 1\n",
        "alpha = bot_return - btc_return\n",
        "btc_risk = np.std(np.log(np.array(closes[1:]) / np.array(closes[:-1])))\n",
        "bot_risk = np.std(np.log(np.array(real_time_portfolio_value[1:]) / np.array(real_time_portfolio_value[:-1])))\n",
        "btc_sharpe = round(btc_return / bot_risk, 3)\n",
        "bot_sharpe = round(bot_return / bot_risk, 3)\n",
        "print(btc_return, ',',  btc_risk, ',', btc_sharpe)\n",
        "print(bot_return, ',', bot_risk, ',', bot_sharpe)\n",
        "print(alpha)"
      ],
      "metadata": {
        "id": "kR2fBYy_bLUR"
      },
      "execution_count": null,
      "outputs": []
    }
  ]
}