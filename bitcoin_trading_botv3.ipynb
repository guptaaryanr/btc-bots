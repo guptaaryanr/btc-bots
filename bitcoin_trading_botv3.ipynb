{
  "nbformat": 4,
  "nbformat_minor": 0,
  "metadata": {
    "colab": {
      "name": "bitcoin-trading-botv3.ipynb",
      "provenance": [],
      "collapsed_sections": [],
      "authorship_tag": "ABX9TyOcfrJt64+QXyWSjUn6Y7qv",
      "include_colab_link": true
    },
    "kernelspec": {
      "name": "python3",
      "display_name": "Python 3"
    },
    "language_info": {
      "name": "python"
    }
  },
  "cells": [
    {
      "cell_type": "markdown",
      "metadata": {
        "id": "view-in-github",
        "colab_type": "text"
      },
      "source": [
        "<a href=\"https://colab.research.google.com/github/guptaaryanr/btc-bots/blob/main/bitcoin_trading_botv3.ipynb\" target=\"_parent\"><img src=\"https://colab.research.google.com/assets/colab-badge.svg\" alt=\"Open In Colab\"/></a>"
      ]
    },
    {
      "cell_type": "code",
      "source": [
        "pip install websocket-client"
      ],
      "metadata": {
        "id": "WDxTZdEQ6rbg"
      },
      "execution_count": null,
      "outputs": []
    },
    {
      "cell_type": "code",
      "source": [
        "!wget http://prdownloads.sourceforge.net/ta-lib/ta-lib-0.4.0-src.tar.gz\n",
        "!tar -xzvf ta-lib-0.4.0-src.tar.gz\n",
        "%cd ta-lib\n",
        "!./configure --prefix=/usr\n",
        "!make\n",
        "!make install\n",
        "!pip install Ta-Lib"
      ],
      "metadata": {
        "id": "HXmlYoju6wvv"
      },
      "execution_count": null,
      "outputs": []
    },
    {
      "cell_type": "code",
      "execution_count": null,
      "metadata": {
        "id": "yPJ9HYU8aEAs"
      },
      "outputs": [],
      "source": [
        "import websocket\n",
        "import talib\n",
        "import numpy as np\n",
        "import json"
      ]
    },
    {
      "cell_type": "code",
      "source": [
        "symbol = 'btcusdt'\n",
        "interval = '1m'\n",
        "socket = f'wss://stream.binance.com:9443/ws/{symbol}@kline_{interval}'\n",
        "core_to_trade = True\n",
        "amount = 1000\n",
        "core_amount = amount * 0.8\n",
        "trade_amount = amount * 0.2\n",
        "core_quantity = 0\n",
        "money_end = amount\n",
        "portfolio = 0\n",
        "investment = []\n",
        "closes = []\n",
        "highs = []\n",
        "lows = []\n",
        "opens = []\n",
        "real_time_portfolio_value = []\n",
        "engulfing = []\n",
        "last_eng, amt, port_value, trade_amt, rt_port = 0, 0, 0, 0, 0"
      ],
      "metadata": {
        "id": "QyfTzQMTaiAU"
      },
      "execution_count": null,
      "outputs": []
    },
    {
      "cell_type": "code",
      "source": [
        "def buy(allocated_money, price):\n",
        "  global portfolio, money_end, investment\n",
        "  quantity = allocated_money / price\n",
        "  money_end -= (quantity * price)\n",
        "  portfolio += quantity\n",
        "  if investment == []:\n",
        "      investment.append(allocated_money)\n",
        "  else:\n",
        "      investment.append(allocated_money)\n",
        "      investment[-1] += investment[-2]\n",
        "      \n",
        "def sell(allocated_money, price):\n",
        "  global portfolio, money_end, investment\n",
        "  quantity = allocated_money / price\n",
        "  money_end += (quantity * price)\n",
        "  portfolio -= quantity\n",
        "  investment.append(-allocated_money)\n",
        "  investment[-1] += investment[-2]"
      ],
      "metadata": {
        "id": "tUbj20PBakKa"
      },
      "execution_count": null,
      "outputs": []
    },
    {
      "cell_type": "code",
      "source": [
        "def on_message(ws, message):\n",
        "  global closes, highs, lows, core_to_trade, core_quantity, money_end\n",
        "  global portfolio, investment, real_time_portfolio_value\n",
        "  json_message = json.loads(message)\n",
        "  cs = json_message['k']\n",
        "  candle_closed = cs['x']\n",
        "  close = cs['c']\n",
        "  high = cs['h']\n",
        "  low = cs['l']\n",
        "  open = cs['o']\n",
        "\n",
        "  if candle_closed:\n",
        "    closes.append(float(close))\n",
        "    highs.append(float(high))\n",
        "    lows.append(float(low))\n",
        "    opens.append(float(open))\n",
        "    print(f'Closes: {closes}')\n",
        "\n",
        "    if core_to_trade:\n",
        "      buy(core_amount, price = closes[-1])\n",
        "      print(f'Core Investment: Bought ${core_amount} BTC')\n",
        "      core_quantity += (core_amount / closes[-1])\n",
        "      core_to_trade = False\n",
        "\n",
        "    engulfing = talib.CDLENGULFING(np.array(opens), np.array(highs), np.array(lows), np.array(closes))\n",
        "    last_eng = engulfing[-1]\n",
        "    amt = last_eng * trade_amount / 100\n",
        "    port_value = portfolio * closes[-1] - core_quantity * closes[-1]\n",
        "    trade_amt = amt - port_value\n",
        "\n",
        "    rt_port = portfolio * closes[-1] + money_end\n",
        "    real_time_portfolio_value.append(float(rt_port))\n",
        "    print(f'Last Engulfing Value is {last_eng} and recommended exposure is ${amt}')\n",
        "    print(f'Real-Time Portfolio Value: ${rt_port}')\n",
        "\n",
        "    if trade_amt > 0:\n",
        "      buy(trade_amt, closes[-1])\n",
        "      print(f'Bought ${trade_amt} BTC')\n",
        "    elif trade_amt < 0:\n",
        "      sell(-trade_amt, closes[-1])\n",
        "      print(f'Sold ${trade_amt} BTC')\n",
        "\n",
        "    print('\\n')\n",
        "\n",
        "ws = websocket.WebSocketApp(socket, on_message = on_message)"
      ],
      "metadata": {
        "id": "sZ9ttEPCamdu"
      },
      "execution_count": null,
      "outputs": []
    },
    {
      "cell_type": "code",
      "source": [
        "ws.run_forever()"
      ],
      "metadata": {
        "id": "HHsiGmex6mB-"
      },
      "execution_count": null,
      "outputs": []
    },
    {
      "cell_type": "code",
      "source": [
        "investment"
      ],
      "metadata": {
        "id": "Vm85M8iScm-V"
      },
      "execution_count": null,
      "outputs": []
    },
    {
      "cell_type": "code",
      "source": [
        "portfolio_value = portfolio * closes[-1]\n",
        "if portfolio_value > 0:\n",
        "    sell(portfolio_value, closes[-1])\n",
        "else:\n",
        "    buy(-portfolio_value, closes[-1])\n",
        "money_end += investment[-1]\n",
        "print('All trades settled')"
      ],
      "metadata": {
        "id": "TZsnn1uoc1zD"
      },
      "execution_count": null,
      "outputs": []
    },
    {
      "cell_type": "code",
      "source": [
        "portfolio"
      ],
      "metadata": {
        "id": "LC9_jGgpcpUD"
      },
      "execution_count": null,
      "outputs": []
    },
    {
      "cell_type": "code",
      "source": [
        "money_end"
      ],
      "metadata": {
        "id": "8TfKGvGycqSG"
      },
      "execution_count": null,
      "outputs": []
    },
    {
      "cell_type": "code",
      "source": [
        "btc_return = closes[-1] / closes[0] - 1\n",
        "bot_return = real_time_portfolio_value[-1] / amount - 1\n",
        "alpha = bot_return - btc_return\n",
        "btc_risk = np.std(np.log(np.array(closes[1:]) / np.array(closes[:-1])))\n",
        "bot_risk = np.std(np.log(np.array(real_time_portfolio_value[1:]) / np.array(real_time_portfolio_value[:-1])))\n",
        "btc_sharpe = round(btc_return / bot_risk, 3)\n",
        "bot_sharpe = round(bot_return / bot_risk, 3)\n",
        "print(btc_return, ',', btc_risk, ',', btc_sharpe)\n",
        "print(bot_return, ',', bot_risk, ',', bot_sharpe)\n",
        "print(alpha)"
      ],
      "metadata": {
        "id": "kR2fBYy_bLUR"
      },
      "execution_count": null,
      "outputs": []
    }
  ]
}